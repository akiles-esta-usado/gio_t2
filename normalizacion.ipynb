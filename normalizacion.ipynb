{
 "cells": [
  {
   "attachments": {},
   "cell_type": "markdown",
   "metadata": {},
   "source": [
    "# Normalización\n",
    "\n",
    "La idea es desarrollar el algoritmo que hacer que las columnas de la coordenada A[entra, sale] sea de la forma [0..1..0], pero eso se usa en Tableau, no tanto en el algoritmo"
   ]
  },
  {
   "cell_type": "code",
   "execution_count": 7,
   "metadata": {},
   "outputs": [],
   "source": [
    "import numpy as np\n",
    "from numpy.typing import NDArray"
   ]
  },
  {
   "cell_type": "code",
   "execution_count": 8,
   "metadata": {},
   "outputs": [
    {
     "data": {
      "text/plain": [
       "array([[0.5, 2. , 1. , 1. , 0. ],\n",
       "       [1. , 2. , 4. , 0. , 1. ]])"
      ]
     },
     "execution_count": 8,
     "metadata": {},
     "output_type": "execute_result"
    }
   ],
   "source": [
    "A = np.array([\n",
    "  [0.5, 2, 1, 1, 0],\n",
    "  [1, 2, 4, 0, 1]\n",
    "])\n",
    "A"
   ]
  },
  {
   "cell_type": "code",
   "execution_count": 9,
   "metadata": {},
   "outputs": [
    {
     "data": {
      "text/plain": [
       "4.0"
      ]
     },
     "execution_count": 9,
     "metadata": {},
     "output_type": "execute_result"
    }
   ],
   "source": [
    "# Por comprobar: buscando casilla con valor 4\n",
    "sale = 1\n",
    "entra = 2\n",
    "\n",
    "A[sale, entra]"
   ]
  },
  {
   "cell_type": "code",
   "execution_count": 10,
   "metadata": {},
   "outputs": [
    {
     "name": "stdout",
     "output_type": "stream",
     "text": [
      "Matriz original: \n",
      "[[  0.5   2.    1.    1.    0.   24. ]\n",
      " [  1.    2.    4.    0.    1.   60. ]\n",
      " [ -6.  -14.  -13.    0.    0.    0. ]]\n",
      "\n",
      "Se escala la fila para que la casilla tenga valor 1\n",
      "[[  0.25   1.     0.5    0.5    0.    12.  ]\n",
      " [  1.     2.     4.     0.     1.    60.  ]\n",
      " [ -6.   -14.   -13.     0.     0.     0.  ]]\n",
      "\n",
      "Al final, la columna tiene que tener valor [1 0].T \n",
      "Columna: [  1.   2. -14.]\n",
      "La matriz de diferencia es\n",
      "[[  0.    0.    0.    0.    0.    0. ]\n",
      " [ -0.5  -2.   -1.   -1.   -0.  -24. ]\n",
      " [  3.5  14.    7.    7.    0.  168. ]]\n",
      "\n",
      "Luego de operar, la iteración resulta en:\n",
      "[[  0.25   1.     0.5    0.5    0.    12.  ]\n",
      " [  0.5    0.     3.    -1.     1.    36.  ]\n",
      " [ -2.5    0.    -6.     7.     0.   168.  ]]\n",
      "\n"
     ]
    }
   ],
   "source": [
    "A = np.array([\n",
    "  [0.5, 2, 1, 1, 0, 24],\n",
    "  [1, 2, 4, 0, 1, 60],\n",
    "  [-6, -14, -13, 0, 0, 0]\n",
    "\n",
    "])\n",
    "\n",
    "print(f\"Matriz original: \\n{A}\")\n",
    "print()\n",
    "\n",
    "sale = 0\n",
    "entra = 1\n",
    "\n",
    "\n",
    "print(\"Se escala la fila para que la casilla tenga valor 1\")\n",
    "A[sale, :] /= A[sale, entra]\n",
    "print(A)\n",
    "print()\n",
    "\n",
    "print(\"Al final, la columna tiene que tener valor [1 0].T \")\n",
    "print(f\"Columna: {A[:, entra]}\")\n",
    "\n",
    "\n",
    "AD = np.ones(shape=A.shape)\n",
    "\n",
    "escala = -A[:, entra]\n",
    "for idx, value in enumerate(escala):\n",
    "  AD[idx, :] = value*A[sale, :]\n",
    "\n",
    "AD[sale, :] = 0 # Evita los cambios en fila donde está A[sale, entra]\n",
    "print(f\"La matriz de diferencia es\")\n",
    "print(AD)\n",
    "print()\n",
    "\n",
    "\n",
    "A = A + AD\n",
    "\n",
    "print(f\"Luego de operar, la iteración resulta en:\")\n",
    "print(A)\n",
    "print()\n",
    "\n",
    "\n"
   ]
  },
  {
   "cell_type": "code",
   "execution_count": 11,
   "metadata": {},
   "outputs": [
    {
     "name": "stdout",
     "output_type": "stream",
     "text": [
      "A original\n",
      "[[  0.5   2.    1.    1.    0.   24. ]\n",
      " [  1.    2.    4.    0.    1.   60. ]\n",
      " [ -6.  -14.  -13.    0.    0.    0. ]]\n",
      "\n",
      "A normalizado\n",
      "[[  0.25   1.     0.5    0.5    0.    12.  ]\n",
      " [  0.5    0.     3.    -1.     1.    36.  ]\n",
      " [ -2.5    0.    -6.     7.     0.   168.  ]]\n",
      "\n"
     ]
    }
   ],
   "source": [
    "def simplex_normalization(A: NDArray, entra: int, sale: int):\n",
    "  A = A.copy()\n",
    "  \n",
    "  view_columna = A[:, entra]\n",
    "  view_fila    = A[sale, :]\n",
    "\n",
    "\n",
    "  view_fila /= A[sale, entra]\n",
    "  \n",
    "  AD = np.ones(shape=A.shape)\n",
    "\n",
    "  escala = -view_columna\n",
    "  for idx, value in enumerate(escala):\n",
    "    AD[idx, :] = value*view_fila\n",
    "\n",
    "  AD[sale, :] = 0 # Evita los cambios en fila donde está A[sale, entra]\n",
    "\n",
    "  A = A + AD\n",
    "  return A\n",
    "\n",
    "A = np.array([\n",
    "  [0.5, 2, 1, 1, 0, 24],\n",
    "  [1, 2, 4, 0, 1, 60],\n",
    "  [-6, -14, -13, 0, 0, 0]\n",
    "\n",
    "])\n",
    "print(\"A original\")\n",
    "print(A)\n",
    "print()\n",
    "\n",
    "\n",
    "A = simplex_normalization(A, entra=1, sale=0)\n",
    "print(\"A normalizado\")\n",
    "print(A)\n",
    "print()\n"
   ]
  }
 ],
 "metadata": {
  "kernelspec": {
   "display_name": "Python 3.10.8 ('ILN250_PV_AV_T2')",
   "language": "python",
   "name": "python3"
  },
  "language_info": {
   "codemirror_mode": {
    "name": "ipython",
    "version": 3
   },
   "file_extension": ".py",
   "mimetype": "text/x-python",
   "name": "python",
   "nbconvert_exporter": "python",
   "pygments_lexer": "ipython3",
   "version": "3.10.8"
  },
  "orig_nbformat": 4,
  "vscode": {
   "interpreter": {
    "hash": "5e91194b480f29ed0fa2806553d210b01285dada63ea41b4890ae11891bb7436"
   }
  }
 },
 "nbformat": 4,
 "nbformat_minor": 2
}
