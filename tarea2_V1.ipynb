{
 "cells": [
  {
   "cell_type": "code",
   "execution_count": 1,
   "metadata": {},
   "outputs": [],
   "source": [
    "import numpy as np\n",
    "from pathlib import Path\n",
    "\n",
    "from tarea2.algorithms import simplex_normalization, north_west_heuristic, costos_reducidos\n",
    "from tarea2.io import get_data\n",
    "from tarea2.gen import gen_A , gen_b, gen_mapping\n",
    "\n",
    "data_path = Path(\"data\")\n",
    "#data_path = Path(\"data_reduced\")\n",
    "#data_path = Path(\"northwest_example\")"
   ]
  },
  {
   "attachments": {},
   "cell_type": "markdown",
   "metadata": {},
   "source": [
    "# Obtener los datos"
   ]
  },
  {
   "cell_type": "code",
   "execution_count": 2,
   "metadata": {},
   "outputs": [
    {
     "name": "stdout",
     "output_type": "stream",
     "text": [
      "El archivo alpha_i.csv existe :)\n",
      "El archivo beta_j.csv existe :)\n",
      "El archivo a_ij.csv existe :)\n",
      "oferta_i.shape = (20, 1)\n",
      "demanda_j.shape = (30, 1)\n",
      "costos_ij.shape = (20, 30)\n",
      "A.shape = (49, 600)\n",
      "b.shape = (49, 1)\n"
     ]
    }
   ],
   "source": [
    "I, J, oferta_i, demanda_j, costos_ij = get_data(data_path)\n",
    "\n",
    "print(f\"{oferta_i.shape = }\")\n",
    "print(f\"{demanda_j.shape = }\")\n",
    "print(f\"{costos_ij.shape = }\")\n",
    "\n",
    "\n",
    "A = gen_A(I, J)\n",
    "b = gen_b(oferta_i, demanda_j)\n",
    "#mapping = gen_mapping(I, J)\n",
    "\n",
    "print(f\"{A.shape = }\")\n",
    "print(f\"{b.shape = }\")\n",
    "#print(f\"{mapping.shape = }\")"
   ]
  },
  {
   "attachments": {},
   "cell_type": "markdown",
   "metadata": {},
   "source": [
    "# Generar solución factible inicial"
   ]
  },
  {
   "cell_type": "code",
   "execution_count": 3,
   "metadata": {},
   "outputs": [],
   "source": [
    "solucion = north_west_heuristic(oferta_i, demanda_j, costos_ij)"
   ]
  },
  {
   "cell_type": "code",
   "execution_count": 4,
   "metadata": {},
   "outputs": [
    {
     "name": "stdout",
     "output_type": "stream",
     "text": [
      "[[3306.  350.    0.    0.    0.    0.    0.    0.    0.    0.    0.    0.\n",
      "     0.    0.    0.    0.    0.    0.    0.    0.    0.    0.    0.    0.\n",
      "     0.    0.    0.    0.    0.    0.]\n",
      " [   0. 1009. 2652.    0.    0.    0.    0.    0.    0.    0.    0.    0.\n",
      "     0.    0.    0.    0.    0.    0.    0.    0.    0.    0.    0.    0.\n",
      "     0.    0.    0.    0.    0.    0.]\n",
      " [   0.    0.  140. 2417. 1048.    0.    0.    0.    0.    0.    0.    0.\n",
      "     0.    0.    0.    0.    0.    0.    0.    0.    0.    0.    0.    0.\n",
      "     0.    0.    0.    0.    0.    0.]\n",
      " [   0.    0.    0.    0.  723. 2907.    0.    0.    0.    0.    0.    0.\n",
      "     0.    0.    0.    0.    0.    0.    0.    0.    0.    0.    0.    0.\n",
      "     0.    0.    0.    0.    0.    0.]\n",
      " [   0.    0.    0.    0.    0. 1035. 3346.    0.    0.    0.    0.    0.\n",
      "     0.    0.    0.    0.    0.    0.    0.    0.    0.    0.    0.    0.\n",
      "     0.    0.    0.    0.    0.    0.]\n",
      " [   0.    0.    0.    0.    0.    0.  954. 2516.  593.    0.    0.    0.\n",
      "     0.    0.    0.    0.    0.    0.    0.    0.    0.    0.    0.    0.\n",
      "     0.    0.    0.    0.    0.    0.]\n",
      " [   0.    0.    0.    0.    0.    0.    0.    0. 2683. 1476.    0.    0.\n",
      "     0.    0.    0.    0.    0.    0.    0.    0.    0.    0.    0.    0.\n",
      "     0.    0.    0.    0.    0.    0.]\n",
      " [   0.    0.    0.    0.    0.    0.    0.    0.    0. 1145. 2618.    0.\n",
      "     0.    0.    0.    0.    0.    0.    0.    0.    0.    0.    0.    0.\n",
      "     0.    0.    0.    0.    0.    0.]\n",
      " [   0.    0.    0.    0.    0.    0.    0.    0.    0.    0. 1110. 3176.\n",
      "     0.    0.    0.    0.    0.    0.    0.    0.    0.    0.    0.    0.\n",
      "     0.    0.    0.    0.    0.    0.]\n",
      " [   0.    0.    0.    0.    0.    0.    0.    0.    0.    0.    0. 1410.\n",
      "  1465. 1064.    0.    0.    0.    0.    0.    0.    0.    0.    0.    0.\n",
      "     0.    0.    0.    0.    0.    0.]\n",
      " [   0.    0.    0.    0.    0.    0.    0.    0.    0.    0.    0.    0.\n",
      "     0.  562. 1737. 1998.    0.    0.    0.    0.    0.    0.    0.    0.\n",
      "     0.    0.    0.    0.    0.    0.]\n",
      " [   0.    0.    0.    0.    0.    0.    0.    0.    0.    0.    0.    0.\n",
      "     0.    0.    0. 2347. 1174.    0.    0.    0.    0.    0.    0.    0.\n",
      "     0.    0.    0.    0.    0.    0.]\n",
      " [   0.    0.    0.    0.    0.    0.    0.    0.    0.    0.    0.    0.\n",
      "     0.    0.    0.    0. 2231. 1460.    0.    0.    0.    0.    0.    0.\n",
      "     0.    0.    0.    0.    0.    0.]\n",
      " [   0.    0.    0.    0.    0.    0.    0.    0.    0.    0.    0.    0.\n",
      "     0.    0.    0.    0.    0.  312. 2144. 1274.  614.    0.    0.    0.\n",
      "     0.    0.    0.    0.    0.    0.]\n",
      " [   0.    0.    0.    0.    0.    0.    0.    0.    0.    0.    0.    0.\n",
      "     0.    0.    0.    0.    0.    0.    0.    0. 2069. 1770.    0.    0.\n",
      "     0.    0.    0.    0.    0.    0.]\n",
      " [   0.    0.    0.    0.    0.    0.    0.    0.    0.    0.    0.    0.\n",
      "     0.    0.    0.    0.    0.    0.    0.    0.    0.  150. 1206. 1201.\n",
      "  1454.  385.    0.    0.    0.    0.]\n",
      " [   0.    0.    0.    0.    0.    0.    0.    0.    0.    0.    0.    0.\n",
      "     0.    0.    0.    0.    0.    0.    0.    0.    0.    0.    0.    0.\n",
      "     0.  841. 3261.   57.    0.    0.]\n",
      " [   0.    0.    0.    0.    0.    0.    0.    0.    0.    0.    0.    0.\n",
      "     0.    0.    0.    0.    0.    0.    0.    0.    0.    0.    0.    0.\n",
      "     0.    0.    0. 3998.    0.    0.]\n",
      " [   0.    0.    0.    0.    0.    0.    0.    0.    0.    0.    0.    0.\n",
      "     0.    0.    0.    0.    0.    0.    0.    0.    0.    0.    0.    0.\n",
      "     0.    0.    0.  153. 3716.    0.]\n",
      " [   0.    0.    0.    0.    0.    0.    0.    0.    0.    0.    0.    0.\n",
      "     0.    0.    0.    0.    0.    0.    0.    0.    0.    0.    0.    0.\n",
      "     0.    0.    0.    0.  545. 3014.]]\n",
      "[[603 272 527 503 282 757 657 676 544 571 340 175 538 749 754 910 254 712\n",
      "  919 553 227 368 429 625 661 148 875 562 237 684]\n",
      " [886 363 119 156 877 494 262 906 715 265 770 965 264 229 178 696 259 728\n",
      "  229 373 864 682 876 388 308 538 642 155 858 495]\n",
      " [802 348 629 715 360 375 642 202 898 331 467 748 938 253 554 289 396 808\n",
      "  500 557 372 822 597 365 956 270 242 652 146 598]\n",
      " [629 597 796 891 587 189 479 733 556 219 182 746 309 194 802 367 709 840\n",
      "  346 783 849 507 273 964 416 356 147 935 358 180]\n",
      " [159 701 688 803 767 178 503 984 410 345 620 981 496 450 547 765 823 515\n",
      "  215 358 282 825 668 862 133 662 741 910 196 582]\n",
      " [491 977 192 418 783 257 564 867 599 363 106 585 190 799 141 699 131 536\n",
      "  277 291 885 621 944 241 537 702 568 291 732 382]\n",
      " [333 535 849 253 120 152 171 492 409 805 116 947 260 158 384 523 452 328\n",
      "  487 100 585 736 211 412 731 400 774 257 544 679]\n",
      " [618 559 891 283 304 329 164 774 504 691 640 761 735 317 956 970 528 808\n",
      "  541 915 160 287 849 602 947 188 166 804 974 428]\n",
      " [740 835 758 267 873 534 200 130 949 491 361 987 349 731 337 275 637 434\n",
      "  894 189 786 266 792 300 683 581 861 535 276 389]\n",
      " [289 293 691 867 659 664 472 298 270 925 100 614 852 129 934 711 809 919\n",
      "  701 332 768 305 901 726 115 333 970 280 363 334]\n",
      " [889 855 371 809 360 234 466 737 671 226 596 237 919 720 638 631 648 858\n",
      "  159 784 526 467 719 853 469 626 106 846 946 788]\n",
      " [230 762 292 454 843 564 401 723 249 857 911 796 488 635 161 421 445 350\n",
      "  652 456 801 771 160 559 853 892 916 742 523 976]\n",
      " [854 768 471 774 745 663 227 309 761 303 148 119 668 929 889 228 135 803\n",
      "  692 289 123 855 795 683 879 773 938 425 398 983]\n",
      " [884 360 139 428 506 568 965 170 420 919 627 464 998 182 957 435 416 496\n",
      "  447 974 501 778 511 504 102 206 169 756 139 767]\n",
      " [158 253 388 175 630 130 357 362 886 638 836 214 898 484 121 505 904 175\n",
      "  917 733 877 660 919 894 324 799 375 193 340 853]\n",
      " [482 962 169 515 570 177 454 802 179 864 522 278 469 828 476 957 171 995\n",
      "  207 167 147 396 483 672 778 321 179 444 185 374]\n",
      " [345 143 390 134 456 268 482 210 977 823 319 153 726 903 871 525 973 118\n",
      "  225 532 323 335 576 971 709 287 595 554 715 417]\n",
      " [811 736 224 956 102 524 840 547 383 726 984 635 475 499 114 389 137 995\n",
      "  126 551 678 751 906 682 229 738 702 679 314 118]\n",
      " [975 330 574 604 336 483 256 704 229 642 369 359 918 823 647 549 244 777\n",
      "  735 173 126 897 361 103 304 668 296 834 307 372]\n",
      " [194 897 351 861 189 854 860 924 404 211 491 976 719 645 926 479 495 811\n",
      "  478 783 774 780 480 142 905 800 911 647 831 798]]\n",
      "44578754.0\n"
     ]
    }
   ],
   "source": [
    "print(solucion)\n",
    "print(costos_ij)\n",
    "print((solucion * costos_ij).sum())"
   ]
  },
  {
   "attachments": {},
   "cell_type": "markdown",
   "metadata": {},
   "source": [
    "# Generar índices de base"
   ]
  },
  {
   "cell_type": "code",
   "execution_count": 5,
   "metadata": {},
   "outputs": [],
   "source": [
    "X = solucion.ravel(order=\"C\")\n",
    "c = costos_ij.ravel()\n",
    "\n",
    "idx_B = [idx for idx, x in enumerate(X) if x != 0]\n",
    "idx_NB = [idx for idx, x in enumerate(X) if x == 0]"
   ]
  },
  {
   "cell_type": "code",
   "execution_count": 6,
   "metadata": {},
   "outputs": [
    {
     "name": "stdout",
     "output_type": "stream",
     "text": [
      "600\n",
      "49\n"
     ]
    }
   ],
   "source": [
    "print(len(X))\n",
    "print(len(X[idx_B]))"
   ]
  },
  {
   "cell_type": "code",
   "execution_count": 7,
   "metadata": {},
   "outputs": [
    {
     "name": "stdout",
     "output_type": "stream",
     "text": [
      "(49, 600)\n",
      "(49,)\n"
     ]
    }
   ],
   "source": [
    "print(A.shape)\n",
    "print(X[idx_B].shape)\n",
    "\n",
    "#np.dot(A,solucion_flatten[base_i].T)"
   ]
  },
  {
   "cell_type": "code",
   "execution_count": 8,
   "metadata": {},
   "outputs": [
    {
     "name": "stdout",
     "output_type": "stream",
     "text": [
      "X_B.shape = (49,)\n",
      "c_B.shape = (49,)\n",
      "A_B.shape = (49, 49)\n",
      "X_NB.shape = (551,)\n",
      "c_NB.shape = (551,)\n",
      "A_NB.shape = (49, 551)\n",
      "La suma de X_nobase debe ser 0: 0.0\n"
     ]
    }
   ],
   "source": [
    "X_B = X[idx_B]\n",
    "c_B = c[idx_B]\n",
    "A_B = A[:, idx_B]\n",
    "\n",
    "X_NB = X[idx_NB]\n",
    "c_NB = c[idx_NB]\n",
    "A_NB = A[:, idx_NB]\n",
    "\n",
    "print(f\"{X_B.shape = }\")\n",
    "print(f\"{c_B.shape = }\")\n",
    "print(f\"{A_B.shape = }\")\n",
    "\n",
    "print(f\"{X_NB.shape = }\")\n",
    "print(f\"{c_NB.shape = }\")\n",
    "print(f\"{A_NB.shape = }\")\n",
    "\n",
    "print(f\"La suma de X_nobase debe ser 0: {X[idx_NB].sum()}\")"
   ]
  },
  {
   "attachments": {},
   "cell_type": "markdown",
   "metadata": {},
   "source": [
    "Todos los elementos de la solución base sean positivos para ser **solución básica factible**"
   ]
  },
  {
   "cell_type": "code",
   "execution_count": 9,
   "metadata": {},
   "outputs": [
    {
     "data": {
      "text/plain": [
       "True"
      ]
     },
     "execution_count": 9,
     "metadata": {},
     "output_type": "execute_result"
    }
   ],
   "source": [
    "(X_B > 0).all()"
   ]
  },
  {
   "attachments": {},
   "cell_type": "markdown",
   "metadata": {},
   "source": [
    "Para ser solución base, el producto con la inversa de A_B debe ser b\n",
    "$$\n",
    "A_B x_B = b\n",
    "\\\\\n",
    " x_B = A_B^{-1} b\n",
    "$$"
   ]
  },
  {
   "cell_type": "code",
   "execution_count": 10,
   "metadata": {},
   "outputs": [
    {
     "name": "stdout",
     "output_type": "stream",
     "text": [
      "[3656. 3661. 3605. 3630. 4381. 4063. 4159. 3763. 4286. 3939. 4297. 3521.\n",
      " 3691. 4344. 3839. 4396. 4159. 3998. 3869. 3559. 3306. 1359. 2792. 2417.\n",
      " 1771. 3942. 4300. 2516. 3276. 2621. 3728. 4586. 1465. 1626. 1737. 4345.\n",
      " 3405. 1772. 2144. 1274. 2683. 1920. 1206. 1201. 1454. 1226. 3261. 4208.\n",
      " 4261.]\n",
      "[[3656 3661 3605 3630 4381 4063 4159 3763 4286 3939 4297 3521 3691 4344\n",
      "  3839 4396 4159 3998 3869 3559 3306 1359 2792 2417 1771 3942 4300 2516\n",
      "  3276 2621 3728 4586 1465 1626 1737 4345 3405 1772 2144 1274 2683 1920\n",
      "  1206 1201 1454 1226 3261 4208 4261]]\n",
      "True\n"
     ]
    }
   ],
   "source": [
    "print(np.dot( A_B, X_B))\n",
    "print(b.T)\n",
    "\n",
    "\n",
    "print((np.dot( A_B, X_B) == b.T).all())"
   ]
  },
  {
   "attachments": {},
   "cell_type": "markdown",
   "metadata": {},
   "source": [
    "# Costos Reducidos"
   ]
  },
  {
   "cell_type": "code",
   "execution_count": 11,
   "metadata": {},
   "outputs": [],
   "source": [
    "cr = costos_reducidos(idx_B, idx_NB, A, c)\n",
    "\n",
    "def es_factible(X_B):\n",
    "  return (X_B >= 0).all()\n",
    "\n",
    "def es_optimo(cr):\n",
    "\n",
    "  if (cr >= 0).all():\n",
    "    print(\"Tenemos un óptimo\")\n",
    "\n",
    "    if (cr == 0).any():\n",
    "      print(\"Son múltiples óptimos\")\n",
    "    else:\n",
    "      print(\"Es único\")\n",
    "\n",
    "    return True\n",
    "\n",
    "  return False\n",
    "\n",
    "\n",
    "if (es_factible(X_B)):\n",
    "  es_optimo(cr)"
   ]
  },
  {
   "attachments": {},
   "cell_type": "markdown",
   "metadata": {},
   "source": [
    "Obtener la dirección básica N-ésima"
   ]
  },
  {
   "cell_type": "code",
   "execution_count": 26,
   "metadata": {},
   "outputs": [
    {
     "data": {
      "text/plain": [
       "array([-0., -1.,  1., -1.,  1., -1., -0., -0., -0., -0., -0., -0., -0.,\n",
       "       -0., -0., -0., -0., -0., -0., -0., -0., -0., -0., -0., -0., -0.,\n",
       "       -0., -0., -0., -0., -0., -0., -0., -0., -0., -0., -0., -0., -0.,\n",
       "       -0., -0., -0., -0., -0., -0., -0., -0., -0., -0.])"
      ]
     },
     "execution_count": 26,
     "metadata": {},
     "output_type": "execute_result"
    }
   ],
   "source": [
    "d = np.zeros(shape=X.shape)\n",
    "d_B = - np.dot( np.linalg.inv(A_B), A[:, idx_NB[1]] )\n",
    "#d_NB = d[idx_NB]\n",
    "\n",
    "#d_B[:] = 1\n",
    "#d.sum()\n",
    "\n",
    "\n",
    "\n",
    "d_B"
   ]
  },
  {
   "cell_type": "code",
   "execution_count": null,
   "metadata": {},
   "outputs": [],
   "source": []
  }
 ],
 "metadata": {
  "kernelspec": {
   "display_name": "ILN250_PV_AV_T2",
   "language": "python",
   "name": "python3"
  },
  "language_info": {
   "codemirror_mode": {
    "name": "ipython",
    "version": 3
   },
   "file_extension": ".py",
   "mimetype": "text/x-python",
   "name": "python",
   "nbconvert_exporter": "python",
   "pygments_lexer": "ipython3",
   "version": "3.10.8 | packaged by conda-forge | (main, Nov 22 2022, 08:16:33) [MSC v.1929 64 bit (AMD64)]"
  },
  "orig_nbformat": 4,
  "vscode": {
   "interpreter": {
    "hash": "5e91194b480f29ed0fa2806553d210b01285dada63ea41b4890ae11891bb7436"
   }
  }
 },
 "nbformat": 4,
 "nbformat_minor": 2
}
