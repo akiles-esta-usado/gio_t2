{
 "cells": [
  {
   "cell_type": "code",
   "execution_count": 2,
   "metadata": {},
   "outputs": [
    {
     "name": "stdout",
     "output_type": "stream",
     "text": [
      "El archivo alpha_i.csv existe :)\n",
      "El archivo beta_j.csv existe :)\n",
      "El archivo a_ij.csv existe :)\n"
     ]
    }
   ],
   "source": [
    "import pandas as pd\n",
    "from pathlib import Path\n",
    "\n",
    "alpha_i = Path(\"alpha_i.csv\")\n",
    "if alpha_i.exists():\n",
    "  print(\"El archivo alpha_i.csv existe :)\")\n",
    "\n",
    "beta_j = Path(\"beta_j.csv\")\n",
    "if beta_j.exists():\n",
    "  print(\"El archivo beta_j.csv existe :)\")\n",
    "\n",
    "a_ij = Path(\"a_ij.csv\")\n",
    "if a_ij.exists():\n",
    "  print(\"El archivo a_ij.csv existe :)\")\n",
    "\n",
    "\n",
    "alpha = pd.read_csv(alpha_i, header=None).to_numpy()\n",
    "beta = pd.read_csv(beta_j, header=None).to_numpy()\n",
    "a = pd.read_csv(a_ij, header=None).to_numpy()"
   ]
  },
  {
   "cell_type": "code",
   "execution_count": null,
   "metadata": {},
   "outputs": [],
   "source": []
  }
 ],
 "metadata": {
  "kernelspec": {
   "display_name": "Python 3.10.8 ('ILN250_PV_AV_T2')",
   "language": "python",
   "name": "python3"
  },
  "language_info": {
   "codemirror_mode": {
    "name": "ipython",
    "version": 3
   },
   "file_extension": ".py",
   "mimetype": "text/x-python",
   "name": "python",
   "nbconvert_exporter": "python",
   "pygments_lexer": "ipython3",
   "version": "3.10.8"
  },
  "orig_nbformat": 4,
  "vscode": {
   "interpreter": {
    "hash": "5e91194b480f29ed0fa2806553d210b01285dada63ea41b4890ae11891bb7436"
   }
  }
 },
 "nbformat": 4,
 "nbformat_minor": 2
}
