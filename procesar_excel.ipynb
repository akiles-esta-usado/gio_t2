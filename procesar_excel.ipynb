{
 "cells": [
  {
   "cell_type": "code",
   "execution_count": 18,
   "metadata": {},
   "outputs": [],
   "source": [
    "import pandas as pd\n",
    "from pathlib import Path\n",
    "\n",
    "def data(data_path: Path):\n",
    "  alpha_i_path = data_path / \"alpha_i.csv\"\n",
    "  if alpha_i_path.exists():\n",
    "    print(\"El archivo alpha_i.csv existe :)\")\n",
    "\n",
    "  beta_j_path = data_path / \"beta_j.csv\"\n",
    "  if beta_j_path.exists():\n",
    "    print(\"El archivo beta_j.csv existe :)\")\n",
    "\n",
    "  a_ij_path = data_path / \"a_ij.csv\"\n",
    "  if a_ij_path.exists():\n",
    "    print(\"El archivo a_ij.csv existe :)\")\n",
    "\n",
    "\n",
    "  alpha_i = pd.read_csv(alpha_i_path, header=None).to_numpy() # Oferta de nodo origen\n",
    "  beta_j = pd.read_csv(beta_j_path, header=None).to_numpy()   # Demanda de nodo destino\n",
    "  a_ij = pd.read_csv(a_ij_path, header=None).to_numpy()\n",
    "\n",
    "  return alpha_i, beta_j, a_ij"
   ]
  },
  {
   "cell_type": "code",
   "execution_count": 20,
   "metadata": {},
   "outputs": [
    {
     "name": "stdout",
     "output_type": "stream",
     "text": [
      "El archivo alpha_i.csv existe :)\n",
      "El archivo beta_j.csv existe :)\n",
      "El archivo a_ij.csv existe :)\n"
     ]
    },
    {
     "data": {
      "text/plain": [
       "array([[603, 272, 527],\n",
       "       [886, 363, 119]], dtype=int64)"
      ]
     },
     "execution_count": 20,
     "metadata": {},
     "output_type": "execute_result"
    }
   ],
   "source": [
    "alpha_i, beta_j, a_ij = data(Path(\"data_reduced\"))\n",
    "\n",
    "\n",
    "I = [i for i in range(len(alpha_i))] # N=20, Conjunto de origenes, quienes ofrecen\n",
    "J = [j for j in range(len(beta_j))]  # M=30, Conjunto de destinos, quienes demandan\n",
    "\n",
    "a_ij"
   ]
  },
  {
   "cell_type": "code",
   "execution_count": 28,
   "metadata": {},
   "outputs": [
    {
     "name": "stdout",
     "output_type": "stream",
     "text": [
      "i j a_ij\n",
      "0 0 603\n",
      "0 1 272\n",
      "0 2 527\n",
      "1 0 886\n",
      "1 1 363\n",
      "1 2 119\n"
     ]
    }
   ],
   "source": [
    "import numpy as np\n",
    "np.zeros(shape=(len(I) + len(J), len(I) * len(J)))\n",
    "# i: nodos origen\n",
    "# j: nodos destino\n",
    "row_base = 0\n",
    "\n",
    "print(\"i j a_ij\")\n",
    "for i in I:\n",
    "  for j in J:\n",
    "    print(i, j, a_ij[i,j])\n",
    "  \n"
   ]
  },
  {
   "cell_type": "code",
   "execution_count": null,
   "metadata": {},
   "outputs": [],
   "source": []
  }
 ],
 "metadata": {
  "kernelspec": {
   "display_name": "Python 3.10.8 ('ILN250_PV_AV_T2')",
   "language": "python",
   "name": "python3"
  },
  "language_info": {
   "codemirror_mode": {
    "name": "ipython",
    "version": 3
   },
   "file_extension": ".py",
   "mimetype": "text/x-python",
   "name": "python",
   "nbconvert_exporter": "python",
   "pygments_lexer": "ipython3",
   "version": "3.10.8"
  },
  "orig_nbformat": 4,
  "vscode": {
   "interpreter": {
    "hash": "5e91194b480f29ed0fa2806553d210b01285dada63ea41b4890ae11891bb7436"
   }
  }
 },
 "nbformat": 4,
 "nbformat_minor": 2
}
