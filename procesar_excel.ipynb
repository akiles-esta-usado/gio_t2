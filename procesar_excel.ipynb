{
 "cells": [
  {
   "cell_type": "code",
   "execution_count": 1,
   "metadata": {},
   "outputs": [],
   "source": [
    "import pandas as pd\n",
    "from pathlib import Path\n",
    "import numpy as np\n",
    "\n",
    "def data(data_path: Path):\n",
    "  alpha_i_path = data_path / \"alpha_i.csv\"\n",
    "  if alpha_i_path.exists():\n",
    "    print(\"El archivo alpha_i.csv existe :)\")\n",
    "\n",
    "  beta_j_path = data_path / \"beta_j.csv\"\n",
    "  if beta_j_path.exists():\n",
    "    print(\"El archivo beta_j.csv existe :)\")\n",
    "\n",
    "  a_ij_path = data_path / \"a_ij.csv\"\n",
    "  if a_ij_path.exists():\n",
    "    print(\"El archivo a_ij.csv existe :)\")\n",
    "\n",
    "\n",
    "  alpha_i = pd.read_csv(alpha_i_path, header=None).to_numpy() # Oferta de nodo origen\n",
    "  beta_j = pd.read_csv(beta_j_path, header=None).to_numpy()   # Demanda de nodo destino\n",
    "  a_ij = pd.read_csv(a_ij_path, header=None).to_numpy()\n",
    "\n",
    "  return alpha_i, beta_j, a_ij\n",
    "\n",
    "def gen_A(I: list, J: list):\n",
    "\n",
    "  I_N = len(I)\n",
    "  J_N = len(J)\n",
    "\n",
    "  # Mapea entre una restricción X_ij a un índice de la matriz A.\n",
    "  IJ = np.arange(I_N*J_N).reshape(I_N, J_N)\n",
    "\n",
    "  A = np.zeros(shape=(I_N + J_N, I_N * J_N))\n",
    "\n",
    "  # Cada fila de la matriz A representa una restricción de igualdad.\n",
    "  restriccion_base = 0\n",
    "\n",
    "  # Por cada nodo fuente i\n",
    "  # la suma de demanda de cada destino debe igualar a su oferta\n",
    "  for i in I:\n",
    "    for j in J:\n",
    "      A[restriccion_base][IJ[i, j]] = 1\n",
    "\n",
    "    restriccion_base += 1\n",
    "\n",
    "  # Por cada nodo destino j\n",
    "  # Su demanda debe ser satisfecha por todos los nodos\n",
    "  for j in J:\n",
    "    for i in I:\n",
    "      A[restriccion_base][IJ[i, j]] = 1\n",
    "\n",
    "    restriccion_base += 1\n",
    "\n",
    "  return A\n",
    "\n",
    "def gen_b(oferta_i, demanda_j):\n",
    "  return np.append(oferta_i,  demanda_j)"
   ]
  },
  {
   "cell_type": "markdown",
   "metadata": {},
   "source": [
    "# Tarea 2\n",
    "\n",
    "## Conjuntos\n",
    "\n",
    "$I$: Conjunto de nodos origen. En los datos reales son 20.\n",
    "\n",
    "$J$: Conjunto de nodos destino. En los datos reales son 30.\n",
    "\n",
    "## Parámetros\n",
    "\n",
    "$\\alpha_i$: Oferta del nodo origen. Originalmente son 20 datos.\n",
    "\n",
    "$\\beta_i$: Demanda del nodo destino. Originalmente son 30 datos.\n",
    "\n",
    "$a_{i,j}$: Costo de transporte unitario del nodo origen \"i\" a nodo destino \"j\"."
   ]
  },
  {
   "cell_type": "code",
   "execution_count": 2,
   "metadata": {},
   "outputs": [
    {
     "name": "stdout",
     "output_type": "stream",
     "text": [
      "El archivo alpha_i.csv existe :)\n",
      "El archivo beta_j.csv existe :)\n",
      "El archivo a_ij.csv existe :)\n",
      "[[0 1 2]\n",
      " [3 4 5]]\n",
      "0\n",
      "1\n",
      "2\n",
      "3\n",
      "4\n",
      "5\n"
     ]
    }
   ],
   "source": [
    "oferta_i, demanda_j, costo_ij = data(Path(\"data_reduced\"))\n",
    "\n",
    "I_N = len(oferta_i)\n",
    "J_N = len(demanda_j)\n",
    "\n",
    "I = [i for i in range(I_N)] # N=20, Conjunto de origenes, quienes ofrecen\n",
    "J = [j for j in range(J_N)]  # M=30, Conjunto de destinos, quienes demandan\n",
    "\n",
    "\n",
    "IJ = np.arange(I_N*J_N).reshape(I_N, J_N)\n",
    "# Esta variable permite recorrer las columnas según una base.\n",
    "# la base especifica la restricción.\n",
    "\n",
    "# El gran problema de este ejercicio es que tenemos que transformar las dos\n",
    "# dimensiones, oferta y demanda, en una sola para poder operar con simplex.\n",
    "\n",
    "# Posiblemnete se puede operar de forma multidimensional, en este trabajo\n",
    "# se opera de manera bidimensional, aplanando las coordenadas [i, j]\n",
    "\n",
    "print(IJ)\n",
    "\n",
    "for i in I:\n",
    "  for j in J:\n",
    "    print(IJ[i, j])"
   ]
  },
  {
   "cell_type": "code",
   "execution_count": 4,
   "metadata": {},
   "outputs": [
    {
     "name": "stdout",
     "output_type": "stream",
     "text": [
      "[[1. 1. 1. 0. 0. 0.]\n",
      " [0. 0. 0. 1. 1. 1.]\n",
      " [1. 0. 0. 1. 0. 0.]\n",
      " [0. 1. 0. 0. 1. 0.]\n",
      " [0. 0. 1. 0. 0. 1.]]\n",
      "[3656 3661 3306 1359 2792]\n"
     ]
    }
   ],
   "source": [
    "A = gen_A(I, J)\n",
    "b = gen_b(oferta_i, demanda_j)\n",
    "\n",
    "print(A)\n",
    "print(b)"
   ]
  },
  {
   "cell_type": "code",
   "execution_count": null,
   "metadata": {},
   "outputs": [],
   "source": []
  }
 ],
 "metadata": {
  "kernelspec": {
   "display_name": "Python 3.10.8 ('ILN250_PV_AV_T2')",
   "language": "python",
   "name": "python3"
  },
  "language_info": {
   "codemirror_mode": {
    "name": "ipython",
    "version": 3
   },
   "file_extension": ".py",
   "mimetype": "text/x-python",
   "name": "python",
   "nbconvert_exporter": "python",
   "pygments_lexer": "ipython3",
   "version": "3.10.8"
  },
  "orig_nbformat": 4,
  "vscode": {
   "interpreter": {
    "hash": "5e91194b480f29ed0fa2806553d210b01285dada63ea41b4890ae11891bb7436"
   }
  }
 },
 "nbformat": 4,
 "nbformat_minor": 2
}
