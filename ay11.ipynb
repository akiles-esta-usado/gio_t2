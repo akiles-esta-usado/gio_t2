{
 "cells": [
  {
   "cell_type": "code",
   "execution_count": 1,
   "metadata": {},
   "outputs": [],
   "source": [
    "import numpy as np\n",
    "from numpy.typing import NDArray\n",
    "from pathlib import Path\n",
    "\n",
    "from tarea2.algorithms import simplex_normalization, north_west_heuristic, costos_reducidos\n",
    "from tarea2.io import get_data\n",
    "from tarea2.gen import gen_A , gen_b, gen_mapping\n"
   ]
  },
  {
   "attachments": {},
   "cell_type": "markdown",
   "metadata": {},
   "source": [
    "# Obtener los datos"
   ]
  },
  {
   "cell_type": "code",
   "execution_count": 2,
   "metadata": {},
   "outputs": [],
   "source": [
    "A = np.array([\n",
    "  [1, -2, 1, 0],\n",
    "  [-1, 1, 0, 1]\n",
    "], dtype=np.float64)\n",
    "\n",
    "b = np.array([\n",
    "  [4],\n",
    "  [3]\n",
    "])\n",
    "\n",
    "c = np.array([\n",
    "  [-1],\n",
    "  [-3],\n",
    "  [0],\n",
    "  [0],\n",
    "])\n",
    "\n",
    "B = np.array([2, 3])\n",
    "NB = np.array([0, 1])"
   ]
  },
  {
   "cell_type": "code",
   "execution_count": 3,
   "metadata": {},
   "outputs": [],
   "source": [
    "A_B = A[:, B]\n",
    "A_NB = A[:, NB]\n",
    "\n",
    "c_B = c[B]\n",
    "c_NB = c[NB]"
   ]
  },
  {
   "cell_type": "code",
   "execution_count": 4,
   "metadata": {},
   "outputs": [
    {
     "data": {
      "text/plain": [
       "array([[0.],\n",
       "       [0.],\n",
       "       [4.],\n",
       "       [3.]])"
      ]
     },
     "execution_count": 4,
     "metadata": {},
     "output_type": "execute_result"
    }
   ],
   "source": [
    "X = np.zeros(shape=c.shape)\n",
    "\n",
    "X[B] = np.dot(np.linalg.inv(A[:,B]) ,b)\n",
    "X"
   ]
  },
  {
   "attachments": {},
   "cell_type": "markdown",
   "metadata": {},
   "source": [
    "Todos los elementos de la solución base sean positivos para ser **solución básica factible**"
   ]
  },
  {
   "cell_type": "code",
   "execution_count": 5,
   "metadata": {},
   "outputs": [
    {
     "name": "stdout",
     "output_type": "stream",
     "text": [
      "[direction(NB_i=0, d=array([[ 1.],\n",
      "       [ 0.],\n",
      "       [-1.],\n",
      "       [ 1.]]), cr=array([-1.])), direction(NB_i=1, d=array([[ 0.],\n",
      "       [ 1.],\n",
      "       [ 2.],\n",
      "       [-1.]]), cr=array([-3.]))]\n"
     ]
    }
   ],
   "source": [
    "from dataclasses import dataclass\n",
    "\n",
    "@dataclass\n",
    "class direction:\n",
    "  NB_i: int\n",
    "  d: NDArray\n",
    "  cr: NDArray\n",
    "\n",
    "def direction_and_reduced_cost(X: NDArray, A: NDArray, B:NDArray, NB: NDArray, NB_i: int) -> NDArray:\n",
    "  d = np.zeros(shape=X.shape)\n",
    "  d_B = - np.dot(\n",
    "    np.linalg.inv(A[:,B]),\n",
    "    A[:, NB_i]\n",
    "  )\n",
    "\n",
    "  np.put(d, NB_i, 1)\n",
    "  np.put(d, B, d_B)\n",
    "\n",
    "\n",
    "  cr = c[NB_i] + np.dot(c[B].T, d[B])\n",
    "\n",
    "  return direction( NB_i, d, cr.flatten())\n",
    "\n",
    "\n",
    "d_cr_list = list(map(lambda i: direction_and_reduced_cost(X, A, B, NB, i), NB))\n",
    "\n",
    "print(d_cr_list)"
   ]
  },
  {
   "cell_type": "code",
   "execution_count": 6,
   "metadata": {},
   "outputs": [],
   "source": [
    "# Determinar dirección con menor costo reducido\n",
    "\n",
    "d_cr_min: direction = min(d_cr_list, key=lambda x: x.cr)\n",
    "\n",
    "d_cr_min\n",
    "NB_entra = d_cr_min.NB_i"
   ]
  },
  {
   "cell_type": "code",
   "execution_count": 7,
   "metadata": {},
   "outputs": [
    {
     "name": "stdout",
     "output_type": "stream",
     "text": [
      "B_menores_a_cero = [3]\n",
      "phi = array([3.])\n",
      "[2 3]\n",
      "B_sale = 3\n",
      "B_sale_row = 1\n"
     ]
    }
   ],
   "source": [
    "# Obtener componentes de la dirección de menor costo reducido\n",
    "# que sean de la base y menores a cero\n",
    "\n",
    "# Lista de índices de la base en que el componente de la distancia sea menor a cero.\n",
    "B_menores_a_cero = [B[i] for i, d_i in enumerate( d_cr_min.d[B] ) if d_i < 0]\n",
    "\n",
    "print(f\"{B_menores_a_cero = }\") # d[3] = [0 1 2 -1]\n",
    "\n",
    "# Dos pasos\n",
    "# 1. Obtener la lista de desplazamientos posibles\n",
    "# 2. Quedarse con el menor phi, y determinar su índice (El que sale)\n",
    "phi_list = [(- X[i] / d_cr_min.d[i], i) for i in B_menores_a_cero]\n",
    "\n",
    "phi, B_sale = min(phi_list)\n",
    "\n",
    "B_sale_row = np.where(B == B_sale)[0][0]\n",
    "\n",
    "print(f\"{phi = }\")\n",
    "print(B)\n",
    "print(f\"{B_sale = }\")\n",
    "print(f\"{B_sale_row = }\")\n",
    "\n"
   ]
  },
  {
   "cell_type": "code",
   "execution_count": 8,
   "metadata": {},
   "outputs": [
    {
     "name": "stdout",
     "output_type": "stream",
     "text": [
      "Entra: 1\n",
      "Sale: 3\n"
     ]
    }
   ],
   "source": [
    "print(f\"Entra: {NB_entra}\")\n",
    "print(f\"Sale: {B_sale}\")"
   ]
  },
  {
   "cell_type": "code",
   "execution_count": 9,
   "metadata": {},
   "outputs": [
    {
     "data": {
      "text/plain": [
       "array([[-1.,  0.,  1.,  2.],\n",
       "       [-1.,  1.,  0.,  1.]])"
      ]
     },
     "execution_count": 9,
     "metadata": {},
     "output_type": "execute_result"
    }
   ],
   "source": [
    "# Usamos el algoritmo de \n",
    "A_2 = simplex_normalization(A=A, entra=NB_entra, sale=B_sale_row)\n",
    "A_2"
   ]
  },
  {
   "cell_type": "code",
   "execution_count": 10,
   "metadata": {},
   "outputs": [
    {
     "data": {
      "text/plain": [
       "array([[-1.,  0.,  1.,  2.],\n",
       "       [-1.,  1.,  0.,  1.]])"
      ]
     },
     "execution_count": 10,
     "metadata": {},
     "output_type": "execute_result"
    }
   ],
   "source": [
    "# Usamos el algoritmo de \n",
    "A_2 = simplex_normalization(A=A, entra=NB_entra, sale=B_sale_row)\n",
    "A_2"
   ]
  },
  {
   "attachments": {},
   "cell_type": "markdown",
   "metadata": {},
   "source": [
    "Para ser solución base, el producto con la inversa de A_B debe ser b\n",
    "$$\n",
    "A_B x_B = b\n",
    "\\\\\n",
    " x_B = A_B^{-1} b\n",
    "$$"
   ]
  },
  {
   "attachments": {},
   "cell_type": "markdown",
   "metadata": {},
   "source": [
    "# Costos Reducidos"
   ]
  },
  {
   "cell_type": "code",
   "execution_count": 11,
   "metadata": {},
   "outputs": [
    {
     "ename": "ValueError",
     "evalue": "shapes (2,1) and (2,2) not aligned: 1 (dim 1) != 2 (dim 0)",
     "output_type": "error",
     "traceback": [
      "\u001b[1;31m---------------------------------------------------------------------------\u001b[0m",
      "\u001b[1;31mValueError\u001b[0m                                Traceback (most recent call last)",
      "Cell \u001b[1;32mIn[11], line 1\u001b[0m\n\u001b[1;32m----> 1\u001b[0m cr \u001b[39m=\u001b[39m costos_reducidos(B, NB, A, c)\n\u001b[0;32m      3\u001b[0m \u001b[39mdef\u001b[39;00m \u001b[39mes_factible\u001b[39m(X_B):\n\u001b[0;32m      4\u001b[0m   \u001b[39mreturn\u001b[39;00m (X_B \u001b[39m>\u001b[39m\u001b[39m=\u001b[39m \u001b[39m0\u001b[39m)\u001b[39m.\u001b[39mall()\n",
      "File \u001b[1;32me:\\Descargas\\gio\\aula_tareas\\t2\\code\\tarea2\\algorithms.py:94\u001b[0m, in \u001b[0;36mcostos_reducidos\u001b[1;34m(idx_B, idx_NB, A, c)\u001b[0m\n\u001b[0;32m     91\u001b[0m c_NB \u001b[39m=\u001b[39m c[idx_NB]\n\u001b[0;32m     92\u001b[0m A_NB \u001b[39m=\u001b[39m A[:, idx_NB]\n\u001b[1;32m---> 94\u001b[0m \u001b[39mreturn\u001b[39;00m c_NB \u001b[39m-\u001b[39m np\u001b[39m.\u001b[39;49mlinalg\u001b[39m.\u001b[39;49mmulti_dot( [c_B,  np\u001b[39m.\u001b[39;49mlinalg\u001b[39m.\u001b[39;49minv(A_B) , A_NB])\n",
      "File \u001b[1;32m<__array_function__ internals>:180\u001b[0m, in \u001b[0;36mmulti_dot\u001b[1;34m(*args, **kwargs)\u001b[0m\n",
      "File \u001b[1;32me:\\source\\miniconda3\\envs\\ILN250_PV_AV_T2\\lib\\site-packages\\numpy\\linalg\\linalg.py:2724\u001b[0m, in \u001b[0;36mmulti_dot\u001b[1;34m(arrays, out)\u001b[0m\n\u001b[0;32m   2722\u001b[0m \u001b[39m# _multi_dot_three is much faster than _multi_dot_matrix_chain_order\u001b[39;00m\n\u001b[0;32m   2723\u001b[0m \u001b[39mif\u001b[39;00m n \u001b[39m==\u001b[39m \u001b[39m3\u001b[39m:\n\u001b[1;32m-> 2724\u001b[0m     result \u001b[39m=\u001b[39m _multi_dot_three(arrays[\u001b[39m0\u001b[39;49m], arrays[\u001b[39m1\u001b[39;49m], arrays[\u001b[39m2\u001b[39;49m], out\u001b[39m=\u001b[39;49mout)\n\u001b[0;32m   2725\u001b[0m \u001b[39melse\u001b[39;00m:\n\u001b[0;32m   2726\u001b[0m     order \u001b[39m=\u001b[39m _multi_dot_matrix_chain_order(arrays)\n",
      "File \u001b[1;32me:\\source\\miniconda3\\envs\\ILN250_PV_AV_T2\\lib\\site-packages\\numpy\\linalg\\linalg.py:2756\u001b[0m, in \u001b[0;36m_multi_dot_three\u001b[1;34m(A, B, C, out)\u001b[0m\n\u001b[0;32m   2754\u001b[0m     \u001b[39mreturn\u001b[39;00m dot(dot(A, B), C, out\u001b[39m=\u001b[39mout)\n\u001b[0;32m   2755\u001b[0m \u001b[39melse\u001b[39;00m:\n\u001b[1;32m-> 2756\u001b[0m     \u001b[39mreturn\u001b[39;00m dot(A, dot(B, C), out\u001b[39m=\u001b[39;49mout)\n",
      "File \u001b[1;32m<__array_function__ internals>:180\u001b[0m, in \u001b[0;36mdot\u001b[1;34m(*args, **kwargs)\u001b[0m\n",
      "\u001b[1;31mValueError\u001b[0m: shapes (2,1) and (2,2) not aligned: 1 (dim 1) != 2 (dim 0)"
     ]
    }
   ],
   "source": [
    "cr = costos_reducidos(B, NB, A, c)\n",
    "\n",
    "def es_factible(X_B):\n",
    "  return (X_B >= 0).all()\n",
    "\n",
    "def es_optimo(cr):\n",
    "\n",
    "  if (cr >= 0).all():\n",
    "    print(\"Tenemos un óptimo\")\n",
    "\n",
    "    if (cr == 0).any():\n",
    "      print(\"Son múltiples óptimos\")\n",
    "    else:\n",
    "      print(\"Es único\")\n",
    "\n",
    "    return True\n",
    "\n",
    "  return False\n",
    "\n",
    "\n",
    "if (es_factible(X_B)):\n",
    "  es_optimo(cr)"
   ]
  },
  {
   "attachments": {},
   "cell_type": "markdown",
   "metadata": {},
   "source": [
    "Obtener la dirección básica N-ésima"
   ]
  },
  {
   "cell_type": "code",
   "execution_count": null,
   "metadata": {},
   "outputs": [],
   "source": [
    "d = np.zeros(shape=X.shape)\n",
    "d_B = - np.dot( np.linalg.inv(A_B), A[:, NB[1]] )\n",
    "#d_NB = d[idx_NB]\n",
    "\n",
    "#d_B[:] = 1\n",
    "#d.sum()\n",
    "\n",
    "\n",
    "\n",
    "d_B"
   ]
  },
  {
   "cell_type": "code",
   "execution_count": null,
   "metadata": {},
   "outputs": [],
   "source": []
  }
 ],
 "metadata": {
  "kernelspec": {
   "display_name": "ILN250_PV_AV_T2",
   "language": "python",
   "name": "python3"
  },
  "language_info": {
   "codemirror_mode": {
    "name": "ipython",
    "version": 3
   },
   "file_extension": ".py",
   "mimetype": "text/x-python",
   "name": "python",
   "nbconvert_exporter": "python",
   "pygments_lexer": "ipython3",
   "version": "3.10.8"
  },
  "orig_nbformat": 4,
  "vscode": {
   "interpreter": {
    "hash": "5e91194b480f29ed0fa2806553d210b01285dada63ea41b4890ae11891bb7436"
   }
  }
 },
 "nbformat": 4,
 "nbformat_minor": 2
}
