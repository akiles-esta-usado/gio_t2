{
 "cells": [
  {
   "cell_type": "code",
   "execution_count": 1,
   "metadata": {},
   "outputs": [],
   "source": [
    "import numpy as np\n",
    "from numpy.typing import NDArray\n",
    "from pathlib import Path\n",
    "\n",
    "from tarea2.algorithms import *\n",
    "from tarea2.io import *\n",
    "from tarea2.gen import *\n"
   ]
  },
  {
   "attachments": {},
   "cell_type": "markdown",
   "metadata": {},
   "source": [
    "# Obtener los datos"
   ]
  },
  {
   "cell_type": "code",
   "execution_count": 2,
   "metadata": {},
   "outputs": [
    {
     "name": "stdout",
     "output_type": "stream",
     "text": [
      "[(0, array([[ 1.],\n",
      "       [ 0.],\n",
      "       [-1.],\n",
      "       [ 1.]]), array([-1.])), (1, array([[ 0.],\n",
      "       [ 1.],\n",
      "       [ 2.],\n",
      "       [-1.]]), array([-3.]))]\n",
      "B_menores_a_cero = [3]\n",
      "phi = array([3.])\n",
      "[2 3]\n",
      "B_sale = 3\n",
      "B_sale_row = 1\n",
      "Entra: 1\n",
      "Sale: 3\n"
     ]
    },
    {
     "data": {
      "text/plain": [
       "array([[-1.,  0.,  1.,  2.],\n",
       "       [-1.,  1.,  0.,  1.]])"
      ]
     },
     "execution_count": 2,
     "metadata": {},
     "output_type": "execute_result"
    }
   ],
   "source": [
    "# Datos de la ayudantía 11\n",
    "\n",
    "A = np.array([\n",
    "  [1, -2, 1, 0],\n",
    "  [-1, 1, 0, 1]\n",
    "], dtype=np.float64)\n",
    "\n",
    "b = np.array([\n",
    "  [4],\n",
    "  [3]\n",
    "])\n",
    "\n",
    "c = np.array([\n",
    "  [-1],\n",
    "  [-3],\n",
    "  [0],\n",
    "  [0],\n",
    "])\n",
    "\n",
    "B = np.array([2, 3])\n",
    "NB = np.array([0, 1])\n",
    "\n",
    "X = np.zeros(shape=c.shape)\n",
    "X[B] = np.dot(np.linalg.inv(A[:,B]) ,b)\n",
    "\n",
    "\n",
    "# Lo más sensato es empezar con una solución básica factible\n",
    "# Luego derivar la base, no-base y seguir.\n",
    "d_cr_list = lista_direccion_costos_reducidos(X, A, c, B, NB)\n",
    "\n",
    "# Determinar dirección con menor costo reducido\n",
    "# (NB_i, d, cr)\n",
    "d_cr_min = min(d_cr_list, key=lambda x: x[2])\n",
    "\n",
    "NB_entra = d_cr_min[0]\n",
    "\n",
    "# Obtener componentes de la dirección de menor costo reducido\n",
    "# que sean de la base y menores a cero\n",
    "\n",
    "# Lista de índices i en B en que d[i] sea menor a cero.\n",
    "B_menores_a_cero = [B[i] for i, d_i in enumerate( d_cr_min[1][B] ) if d_i < 0]\n",
    "\n",
    "print(f\"{B_menores_a_cero = }\") # d[3] = [0 1 2 -1]\n",
    "\n",
    "# Dos pasos\n",
    "# 1. Obtener la lista de coeficientes de desplazamientos posibles\n",
    "# 2. Quedarse con el menor, y determinar su índice (El que sale)\n",
    "phi_list = [(- X[i] / d_cr_min[1][i], i) for i in B_menores_a_cero]\n",
    "\n",
    "phi, B_sale = min(phi_list)\n",
    "\n",
    "B_sale_row = np.where(B == B_sale)[0][0]\n",
    "\n",
    "print(f\"{phi = }\")\n",
    "print(B)\n",
    "print(f\"{B_sale = }\")\n",
    "print(f\"{B_sale_row = }\")\n",
    "\n",
    "print(f\"Entra: {NB_entra}\")\n",
    "print(f\"Sale: {B_sale}\")\n",
    "\n",
    "# Usamos el algoritmo de \n",
    "A_2 = simplex_normalization(A=A, entra=NB_entra, sale=B_sale_row)\n",
    "A_2"
   ]
  },
  {
   "cell_type": "code",
   "execution_count": null,
   "metadata": {},
   "outputs": [],
   "source": []
  }
 ],
 "metadata": {
  "kernelspec": {
   "display_name": "ILN250_PV_AV_T2",
   "language": "python",
   "name": "python3"
  },
  "language_info": {
   "codemirror_mode": {
    "name": "ipython",
    "version": 3
   },
   "file_extension": ".py",
   "mimetype": "text/x-python",
   "name": "python",
   "nbconvert_exporter": "python",
   "pygments_lexer": "ipython3",
   "version": "3.10.8"
  },
  "orig_nbformat": 4,
  "vscode": {
   "interpreter": {
    "hash": "5e91194b480f29ed0fa2806553d210b01285dada63ea41b4890ae11891bb7436"
   }
  }
 },
 "nbformat": 4,
 "nbformat_minor": 2
}
