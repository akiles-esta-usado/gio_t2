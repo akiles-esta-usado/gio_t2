{
 "cells": [
  {
   "cell_type": "code",
   "execution_count": 1,
   "metadata": {},
   "outputs": [],
   "source": [
    "import numpy as np\n",
    "from pathlib import Path\n",
    "\n",
    "from tarea2.algorithms import simplex_normalization, north_west_heuristic\n",
    "from tarea2.io import get_data\n",
    "from tarea2.gen import gen_A , gen_b, gen_mapping"
   ]
  },
  {
   "cell_type": "code",
   "execution_count": 8,
   "metadata": {},
   "outputs": [
    {
     "name": "stdout",
     "output_type": "stream",
     "text": [
      "El archivo alpha_i.csv existe :)\n",
      "El archivo beta_j.csv existe :)\n",
      "El archivo a_ij.csv existe :)\n"
     ]
    }
   ],
   "source": [
    "#data_path = Path(\"data\")\n",
    "data_path = Path(\"data_reduced\")\n",
    "#data_path = Path(\"northwest_example\")\n",
    "I, J, oferta_i, demanda_j, costos_ij = get_data(data_path)\n",
    "\n",
    "\n",
    "A = gen_A(I, J)\n",
    "b = gen_b(oferta_i, demanda_j)\n",
    "mapping = gen_mapping(I, J)"
   ]
  },
  {
   "cell_type": "code",
   "execution_count": 9,
   "metadata": {},
   "outputs": [
    {
     "name": "stdout",
     "output_type": "stream",
     "text": [
      "   oferta_actual = 3656\n",
      "   demanda_actual = 3306\n",
      "   - demanda_actual es menor\n",
      "[[ 350]\n",
      " [3661]]\n",
      "[[   0]\n",
      " [1359]\n",
      " [2652]]\n",
      "\n",
      "   oferta_actual = 350\n",
      "   demanda_actual = 1359\n",
      "   - oferta_actual es menor\n",
      "[[   0]\n",
      " [3661]]\n",
      "[[   0]\n",
      " [1009]\n",
      " [2652]]\n",
      "\n",
      "   oferta_actual = 3661\n",
      "   demanda_actual = 1009\n",
      "   - demanda_actual es menor\n",
      "[[   0]\n",
      " [2652]]\n",
      "[[   0]\n",
      " [   0]\n",
      " [2652]]\n",
      "\n",
      "   oferta_actual = 2652\n",
      "   demanda_actual = 2652\n",
      "   - iguales\n",
      "Se llega al equilibrio\n"
     ]
    }
   ],
   "source": [
    "solucion_1 = north_west_heuristic(oferta_i, demanda_j, costos_ij)"
   ]
  },
  {
   "cell_type": "code",
   "execution_count": 10,
   "metadata": {},
   "outputs": [
    {
     "data": {
      "text/plain": [
       "2770573.0"
      ]
     },
     "execution_count": 10,
     "metadata": {},
     "output_type": "execute_result"
    }
   ],
   "source": [
    "(solucion_1* costos_ij).sum()"
   ]
  },
  {
   "cell_type": "code",
   "execution_count": 11,
   "metadata": {},
   "outputs": [
    {
     "data": {
      "text/plain": [
       "array([[603, 272, 527],\n",
       "       [886, 363, 119]], dtype=int64)"
      ]
     },
     "execution_count": 11,
     "metadata": {},
     "output_type": "execute_result"
    }
   ],
   "source": [
    "costos_ij"
   ]
  }
 ],
 "metadata": {
  "kernelspec": {
   "display_name": "ILN250_PV_AV_T2",
   "language": "python",
   "name": "python3"
  },
  "language_info": {
   "codemirror_mode": {
    "name": "ipython",
    "version": 3
   },
   "file_extension": ".py",
   "mimetype": "text/x-python",
   "name": "python",
   "nbconvert_exporter": "python",
   "pygments_lexer": "ipython3",
   "version": "3.10.8"
  },
  "orig_nbformat": 4,
  "vscode": {
   "interpreter": {
    "hash": "5e91194b480f29ed0fa2806553d210b01285dada63ea41b4890ae11891bb7436"
   }
  }
 },
 "nbformat": 4,
 "nbformat_minor": 2
}
