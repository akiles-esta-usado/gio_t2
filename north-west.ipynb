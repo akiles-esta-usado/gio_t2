{
 "cells": [
  {
   "cell_type": "code",
   "execution_count": 1,
   "metadata": {},
   "outputs": [],
   "source": [
    "import numpy as np\n",
    "from numpy.typing import NDArray"
   ]
  },
  {
   "cell_type": "code",
   "execution_count": 4,
   "metadata": {},
   "outputs": [],
   "source": [
    "def north_west_heuristic(oferta_i, demanda_j, costos_ij):\n",
    "  factores_ij = np.zeros(shape=costos_ij.shape)\n",
    "\n",
    "  i = 0\n",
    "  j = 0\n",
    "\n",
    "  while True:\n",
    "\n",
    "    oferta_actual = oferta_i[i]\n",
    "    demanda_actual = demanda_j[j]\n",
    "\n",
    "    # print(f\"{   oferta_actual = }\")\n",
    "    # print(f\"{   demanda_actual = }\")\n",
    "\n",
    "    if oferta_actual == demanda_actual:\n",
    "      # print(\"   - iguales\")\n",
    "      factores_ij[i,j] = oferta_actual\n",
    "      \n",
    "      oferta_i[i] -= oferta_actual\n",
    "      demanda_j[j] -= oferta_actual\n",
    "\n",
    "      di = 1\n",
    "      dj = 1\n",
    "      \n",
    "    elif oferta_actual >= demanda_actual:\n",
    "      # print(\"   - demanda_actual es menor\")\n",
    "      factores_ij[i,j]=demanda_actual\n",
    "\n",
    "      oferta_i[i]  -= demanda_actual\n",
    "      demanda_j[j] -= demanda_actual\n",
    "\n",
    "      di = 0\n",
    "      dj = 1\n",
    "\n",
    "\n",
    "    elif oferta_actual <= demanda_actual:\n",
    "      # print(\"   - oferta_actual es menor\")\n",
    "      factores_ij[i,j]=oferta_actual\n",
    "\n",
    "      oferta_i[i]  -= oferta_actual\n",
    "      demanda_j[j] -= oferta_actual\n",
    "\n",
    "      di = 1\n",
    "      dj = 0\n",
    "\n",
    "    if oferta_i[i] == 0 and demanda_j[j] == 0:\n",
    "      # print(\"Se llega al equilibrio\")\n",
    "      return factores_ij\n",
    "\n",
    "    i += di\n",
    "    j += dj\n",
    "\n",
    "    # print()\n",
    "\n",
    "\n"
   ]
  },
  {
   "cell_type": "code",
   "execution_count": 6,
   "metadata": {},
   "outputs": [
    {
     "name": "stdout",
     "output_type": "stream",
     "text": [
      "   oferta_actual = 250\n",
      "   demanda_actual = 200\n",
      "   - demanda_actual es menor\n",
      "\n",
      "   oferta_actual = 50\n",
      "   demanda_actual = 225\n",
      "   - oferta_actual es menor\n",
      "\n",
      "   oferta_actual = 300\n",
      "   demanda_actual = 175\n",
      "   - demanda_actual es menor\n",
      "\n",
      "   oferta_actual = 125\n",
      "   demanda_actual = 275\n",
      "   - oferta_actual es menor\n",
      "\n",
      "   oferta_actual = 400\n",
      "   demanda_actual = 150\n",
      "   - demanda_actual es menor\n",
      "\n",
      "   oferta_actual = 250\n",
      "   demanda_actual = 250\n",
      "   - iguales\n",
      "Se llega al equilibrio\n"
     ]
    },
    {
     "data": {
      "text/plain": [
       "12200.0"
      ]
     },
     "execution_count": 6,
     "metadata": {},
     "output_type": "execute_result"
    }
   ],
   "source": [
    "costos_ij = np.array([\n",
    "  [11, 13, 17, 14],\n",
    "  [16, 18, 14, 10],\n",
    "  [21, 24, 13, 10],\n",
    "])\n",
    "\n",
    "oferta_i = np.array([ 250, 300, 400 ])\n",
    "demanda_j = np.array([ 200, 225, 275, 250 ])\n",
    "\n",
    "solucion_factible_inicial = north_west_heuristic(oferta_i, demanda_j, costos_ij)\n",
    "\n",
    "(solucion_factible_inicial * costos_ij).sum()"
   ]
  },
  {
   "cell_type": "code",
   "execution_count": null,
   "metadata": {},
   "outputs": [],
   "source": []
  }
 ],
 "metadata": {
  "kernelspec": {
   "display_name": "Python 3.10.8 ('ILN250_PV_AV_T2')",
   "language": "python",
   "name": "python3"
  },
  "language_info": {
   "codemirror_mode": {
    "name": "ipython",
    "version": 3
   },
   "file_extension": ".py",
   "mimetype": "text/x-python",
   "name": "python",
   "nbconvert_exporter": "python",
   "pygments_lexer": "ipython3",
   "version": "3.10.8"
  },
  "orig_nbformat": 4,
  "vscode": {
   "interpreter": {
    "hash": "5e91194b480f29ed0fa2806553d210b01285dada63ea41b4890ae11891bb7436"
   }
  }
 },
 "nbformat": 4,
 "nbformat_minor": 2
}
